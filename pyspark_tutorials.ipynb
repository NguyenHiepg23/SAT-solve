{
  "nbformat": 4,
  "nbformat_minor": 0,
  "metadata": {
    "colab": {
      "provenance": [],
      "include_colab_link": true
    },
    "kernelspec": {
      "name": "python3",
      "display_name": "Python 3"
    },
    "language_info": {
      "name": "python"
    }
  },
  "cells": [
    {
      "cell_type": "markdown",
      "metadata": {
        "id": "view-in-github",
        "colab_type": "text"
      },
      "source": [
        "<a href=\"https://colab.research.google.com/github/ntphiep/SAT-solve/blob/main/pyspark_tutorials.ipynb\" target=\"_parent\"><img src=\"https://colab.research.google.com/assets/colab-badge.svg\" alt=\"Open In Colab\"/></a>"
      ]
    },
    {
      "cell_type": "code",
      "execution_count": null,
      "metadata": {
        "id": "ftx33wpcHD2v"
      },
      "outputs": [],
      "source": [
        "!apt-get install openjdk-8-jdk-headless -qq > /dev/null\n",
        "!wget -q http://archive.apache.org/dist/spark/spark-3.1.1/spark-3.1.1-bin-hadoop3.2.tgz\n",
        "!tar xf spark-3.1.1-bin-hadoop3.2.tgz\n",
        "!pip install -q findspark"
      ]
    },
    {
      "cell_type": "code",
      "source": [
        "import os\n",
        "os.environ[\"JAVA_HOME\"] = \"/usr/lib/jvm/java-8-openjdk-amd64\"\n",
        "os.environ[\"SPARK_HOME\"] = \"/content/spark-3.1.1-bin-hadoop3.2\""
      ],
      "metadata": {
        "id": "S63y8gfAHLB4"
      },
      "execution_count": null,
      "outputs": []
    },
    {
      "cell_type": "code",
      "source": [
        "! echo $SPARK_HOME"
      ],
      "metadata": {
        "id": "GLCx_NnsrwOv"
      },
      "execution_count": null,
      "outputs": []
    },
    {
      "cell_type": "code",
      "source": [
        "import findspark\n",
        "findspark.init()"
      ],
      "metadata": {
        "id": "Q9Py5XJ6HONw"
      },
      "execution_count": null,
      "outputs": []
    },
    {
      "cell_type": "code",
      "source": [
        "! pwd"
      ],
      "metadata": {
        "id": "cCHUJNNaWNKW"
      },
      "execution_count": null,
      "outputs": []
    },
    {
      "cell_type": "code",
      "source": [
        "! ls /"
      ],
      "metadata": {
        "id": "s3Yy67j6WSn3"
      },
      "execution_count": null,
      "outputs": []
    },
    {
      "cell_type": "code",
      "source": [
        "# %cd"
      ],
      "metadata": {
        "id": "uU0YUZaWWg0t"
      },
      "execution_count": null,
      "outputs": []
    },
    {
      "cell_type": "code",
      "source": [
        "from pyspark import SparkContext\n",
        "\n",
        "sc = SparkContext(\"local\", \"Filter app\")"
      ],
      "metadata": {
        "id": "fciTtytgbQkh"
      },
      "execution_count": null,
      "outputs": []
    },
    {
      "cell_type": "code",
      "source": [
        "words = sc.parallelize (\n",
        "   [\"scala\",\n",
        "   \"java\",\n",
        "   \"hadoop\",\n",
        "   \"spark\",\n",
        "   \"akka\",\n",
        "   \"spark vs hadoop\",\n",
        "   \"pyspark\",\n",
        "   \"pyspark and spark\"]\n",
        ")\n",
        "print(type(words))\n",
        "print(words.count())\n",
        "\n",
        "words_filter = words.filter(lambda x: 'spark' in x)\n",
        "filtered = words_filter.collect()\n",
        "print (\"Fitered RDD -> %s\" % (filtered))"
      ],
      "metadata": {
        "id": "GzOqeeRTBGzW"
      },
      "execution_count": null,
      "outputs": []
    },
    {
      "cell_type": "code",
      "source": [
        "! $SPARK_HOME/bin/spark-submit example.py"
      ],
      "metadata": {
        "id": "ndd6fK-9skDI"
      },
      "execution_count": null,
      "outputs": []
    },
    {
      "cell_type": "code",
      "source": [
        "from pyspark import SparkContext\n",
        "\n",
        "sc = SparkContext(\"local\", \"Filter app\")"
      ],
      "metadata": {
        "id": "_v9bhVuetIol"
      },
      "execution_count": null,
      "outputs": []
    },
    {
      "cell_type": "code",
      "source": [
        "dataFile = sc.textFile('/content/sample_data/README.md')\n",
        "print(type(dataFile))\n",
        "print(dataFile.getStorageLevel())\n",
        "dataFile.cache()\n",
        "print(dataFile.getStorageLevel())\n",
        "\n",
        "lines = dataFile.collect()\n",
        "for ll in lines:\n",
        "  print(ll)"
      ],
      "metadata": {
        "colab": {
          "base_uri": "https://localhost:8080/"
        },
        "id": "KS2OUfxYuBPC",
        "outputId": "5da2cba1-0b6d-4bd0-f37f-8afffab79880"
      },
      "execution_count": null,
      "outputs": [
        {
          "output_type": "stream",
          "name": "stdout",
          "text": [
            "<class 'pyspark.rdd.RDD'>\n",
            "Serialized 1x Replicated\n",
            "Memory Serialized 1x Replicated\n",
            "This directory includes a few sample datasets to get you started.\n",
            "\n",
            "*   `california_housing_data*.csv` is California housing data from the 1990 US\n",
            "    Census; more information is available at:\n",
            "    https://developers.google.com/machine-learning/crash-course/california-housing-data-description\n",
            "\n",
            "*   `mnist_*.csv` is a small sample of the\n",
            "    [MNIST database](https://en.wikipedia.org/wiki/MNIST_database), which is\n",
            "    described at: http://yann.lecun.com/exdb/mnist/\n",
            "\n",
            "*   `anscombe.json` contains a copy of\n",
            "    [Anscombe's quartet](https://en.wikipedia.org/wiki/Anscombe%27s_quartet); it\n",
            "    was originally described in\n",
            "\n",
            "    Anscombe, F. J. (1973). 'Graphs in Statistical Analysis'. American\n",
            "    Statistician. 27 (1): 17-21. JSTOR 2682899.\n",
            "\n",
            "    and our copy was prepared by the\n",
            "    [vega_datasets library](https://github.com/altair-viz/vega_datasets/blob/4f67bdaad10f45e3549984e17e1b3088c731503d/vega_datasets/_data/anscombe.json).\n"
          ]
        }
      ]
    },
    {
      "cell_type": "code",
      "source": [
        "# loc cac dong voi dau *\n",
        "linesWithStar = dataFile.filter(lambda x: '*' in x)\n",
        "for line in linesWithStar.collect():\n",
        "  print(line)"
      ],
      "metadata": {
        "colab": {
          "base_uri": "https://localhost:8080/"
        },
        "id": "NjuN8oXnvw7u",
        "outputId": "ae34ff50-47f3-48e9-9e1f-4b92ddb84111"
      },
      "execution_count": null,
      "outputs": [
        {
          "output_type": "stream",
          "name": "stdout",
          "text": [
            "*   `california_housing_data*.csv` is California housing data from the 1990 US\n",
            "*   `mnist_*.csv` is a small sample of the\n",
            "*   `anscombe.json` contains a copy of\n"
          ]
        }
      ]
    },
    {
      "cell_type": "code",
      "source": [
        "words = dataFile \\\n",
        "        .flatMap(lambda x: x.split(' ')) \\\n",
        "        .map(lambda x: (x, 1)) \\\n",
        "        .reduceByKey(lambda x, y: x + y)\n",
        "for it in words.collect():\n",
        "  print(it)\n",
        "\n",
        "words.saveAsTextFile('/content/wordcount')"
      ],
      "metadata": {
        "colab": {
          "base_uri": "https://localhost:8080/"
        },
        "id": "kbXUi8HRhJ5r",
        "outputId": "f7c42212-7edd-4f8c-9cc8-47c2b75936b6"
      },
      "execution_count": null,
      "outputs": [
        {
          "output_type": "stream",
          "name": "stdout",
          "text": [
            "('This', 1)\n",
            "('directory', 1)\n",
            "('includes', 1)\n",
            "('a', 3)\n",
            "('few', 1)\n",
            "('sample', 2)\n",
            "('datasets', 1)\n",
            "('to', 1)\n",
            "('get', 1)\n",
            "('you', 1)\n",
            "('started.', 1)\n",
            "('', 51)\n",
            "('*', 3)\n",
            "('`california_housing_data*.csv`', 1)\n",
            "('is', 4)\n",
            "('California', 1)\n",
            "('housing', 1)\n",
            "('data', 1)\n",
            "('from', 1)\n",
            "('the', 3)\n",
            "('1990', 1)\n",
            "('US', 1)\n",
            "('Census;', 1)\n",
            "('more', 1)\n",
            "('information', 1)\n",
            "('available', 1)\n",
            "('at:', 2)\n",
            "('https://developers.google.com/machine-learning/crash-course/california-housing-data-description', 1)\n",
            "('`mnist_*.csv`', 1)\n",
            "('small', 1)\n",
            "('of', 2)\n",
            "('[MNIST', 1)\n",
            "('database](https://en.wikipedia.org/wiki/MNIST_database),', 1)\n",
            "('which', 1)\n",
            "('described', 2)\n",
            "('http://yann.lecun.com/exdb/mnist/', 1)\n",
            "('`anscombe.json`', 1)\n",
            "('contains', 1)\n",
            "('copy', 2)\n",
            "(\"[Anscombe's\", 1)\n",
            "('quartet](https://en.wikipedia.org/wiki/Anscombe%27s_quartet);', 1)\n",
            "('it', 1)\n",
            "('was', 2)\n",
            "('originally', 1)\n",
            "('in', 2)\n",
            "('Anscombe,', 1)\n",
            "('F.', 1)\n",
            "('J.', 1)\n",
            "('(1973).', 1)\n",
            "(\"'Graphs\", 1)\n",
            "('Statistical', 1)\n",
            "(\"Analysis'.\", 1)\n",
            "('American', 1)\n",
            "('Statistician.', 1)\n",
            "('27', 1)\n",
            "('(1):', 1)\n",
            "('17-21.', 1)\n",
            "('JSTOR', 1)\n",
            "('2682899.', 1)\n",
            "('and', 1)\n",
            "('our', 1)\n",
            "('prepared', 1)\n",
            "('by', 1)\n",
            "('[vega_datasets', 1)\n",
            "('library](https://github.com/altair-viz/vega_datasets/blob/4f67bdaad10f45e3549984e17e1b3088c731503d/vega_datasets/_data/anscombe.json).', 1)\n"
          ]
        }
      ]
    },
    {
      "cell_type": "code",
      "source": [
        "# dem so luong tu\n",
        "words = dataFile.flatMap(lambda x: x.split(' '))\n",
        "# for it in words.collect():\n",
        "#   print(it)\n",
        "words = words.map(lambda x: (x, 1))\n",
        "counters = words.reduceByKey(lambda x, y: x+y)\n",
        "for it in counters.collect():\n",
        "  print(it)\n",
        "counters.saveAsTextFile('/content/wordcount')"
      ],
      "metadata": {
        "id": "D5dC7Z95wc7h"
      },
      "execution_count": null,
      "outputs": []
    },
    {
      "cell_type": "code",
      "source": [
        "# tao mot file chua cac so nguyen\n",
        "import random\n",
        "with open('/content/int.txt', 'wt') as g:\n",
        "  for i in range(1000000):\n",
        "    g.write('%d\\n'%(random.randint(0, 1000000)))"
      ],
      "metadata": {
        "id": "gBRdtfva4TNJ"
      },
      "execution_count": null,
      "outputs": []
    },
    {
      "cell_type": "code",
      "source": [
        "# tinh tong cac so\n",
        "dataFile = sc.textFile('/content/int.txt')\n",
        "result = dataFile \\\n",
        "          .map(lambda x: int(x)) \\\n",
        "          .reduce(lambda x, y: x+y)\n",
        "print(result)"
      ],
      "metadata": {
        "colab": {
          "base_uri": "https://localhost:8080/"
        },
        "id": "1QTTWDMJ5Cdz",
        "outputId": "5ea746a4-80be-42d1-f16c-d85412129d3f"
      },
      "execution_count": null,
      "outputs": [
        {
          "output_type": "stream",
          "name": "stdout",
          "text": [
            "499545359357\n"
          ]
        }
      ]
    },
    {
      "cell_type": "code",
      "source": [
        "# tim so lon nhat\n",
        "dataFile = sc.textFile('/content/int.txt')\n",
        "result = dataFile \\\n",
        "          .map(lambda x: int(x)) \\\n",
        "          .max()\n",
        "print(result)"
      ],
      "metadata": {
        "colab": {
          "base_uri": "https://localhost:8080/"
        },
        "id": "wXpJOKGI6Ycz",
        "outputId": "85a98773-9387-482f-c633-abf4b68f4de1"
      },
      "execution_count": null,
      "outputs": [
        {
          "output_type": "stream",
          "name": "stdout",
          "text": [
            "999999\n"
          ]
        }
      ]
    },
    {
      "cell_type": "code",
      "source": [
        "# tim so luong so chan\n",
        "dataFile = sc.textFile('/content/int.txt')\n",
        "result = dataFile \\\n",
        "          .map(lambda x: int(x)) \\\n",
        "          .filter(lambda x: x%2==0) \\\n",
        "          .count()\n",
        "print(result)"
      ],
      "metadata": {
        "colab": {
          "base_uri": "https://localhost:8080/"
        },
        "id": "1vpJ8-T66ydl",
        "outputId": "e0fb5e53-7111-4044-fd28-b6e17b35e360"
      },
      "execution_count": null,
      "outputs": [
        {
          "output_type": "stream",
          "name": "stdout",
          "text": [
            "500681\n"
          ]
        }
      ]
    },
    {
      "cell_type": "code",
      "source": [
        "from pyspark.sql import SQLContext\n",
        "\n",
        "sqlc = SQLContext(sc)"
      ],
      "metadata": {
        "id": "3BZV4DV_9Qa6"
      },
      "execution_count": null,
      "outputs": []
    },
    {
      "cell_type": "code",
      "source": [
        "data = [\n",
        "   {\"id\" : \"1201\", \"name\" : \"satish\", \"age\" : \"25\"},\n",
        "   {\"id\" : \"1202\", \"name\" : \"krishna\", \"age\" : \"28\"},\n",
        "   {\"id\" : \"1203\", \"name\" : \"amith\", \"age\" : \"39\"},\n",
        "   {\"id\" : \"1204\", \"name\" : \"javed\", \"age\" : \"23\"},\n",
        "   {\"id\" : \"1205\", \"name\" : \"prudvi\", \"age\" : \"23\"}\n",
        "]\n",
        "df = sqlc.createDataFrame(data)"
      ],
      "metadata": {
        "id": "BihETLMsq3tP"
      },
      "execution_count": null,
      "outputs": []
    },
    {
      "cell_type": "code",
      "source": [
        "df.show()"
      ],
      "metadata": {
        "colab": {
          "base_uri": "https://localhost:8080/"
        },
        "id": "zWZpvULPrHjp",
        "outputId": "155491c2-13e9-4011-9ed7-e84a8c6fc7b5"
      },
      "execution_count": null,
      "outputs": [
        {
          "output_type": "stream",
          "name": "stdout",
          "text": [
            "+---+----+-------+\n",
            "|age|  id|   name|\n",
            "+---+----+-------+\n",
            "| 25|1201| satish|\n",
            "| 28|1202|krishna|\n",
            "| 39|1203|  amith|\n",
            "| 23|1204|  javed|\n",
            "| 23|1205| prudvi|\n",
            "+---+----+-------+\n",
            "\n"
          ]
        }
      ]
    },
    {
      "cell_type": "code",
      "source": [
        "df.printSchema()"
      ],
      "metadata": {
        "colab": {
          "base_uri": "https://localhost:8080/"
        },
        "id": "wJaURucSrQUn",
        "outputId": "7b9dd4eb-a354-4706-c2c4-831c0944cc0c"
      },
      "execution_count": null,
      "outputs": [
        {
          "output_type": "stream",
          "name": "stdout",
          "text": [
            "root\n",
            " |-- age: string (nullable = true)\n",
            " |-- id: string (nullable = true)\n",
            " |-- name: string (nullable = true)\n",
            "\n"
          ]
        }
      ]
    },
    {
      "cell_type": "code",
      "source": [
        "df = sqlc.read.csv('/content/sample_data/california_housing_test.csv',\n",
        "                   header=True)\n",
        "df.show()"
      ],
      "metadata": {
        "id": "6ux5Y5eY-Q0S",
        "colab": {
          "base_uri": "https://localhost:8080/"
        },
        "outputId": "019b9c79-ee7a-4e0b-efc6-a5ec048440a4"
      },
      "execution_count": null,
      "outputs": [
        {
          "output_type": "stream",
          "name": "stdout",
          "text": [
            "+-----------+---------+------------------+-----------+--------------+-----------+-----------+-------------+------------------+\n",
            "|  longitude| latitude|housing_median_age|total_rooms|total_bedrooms| population| households|median_income|median_house_value|\n",
            "+-----------+---------+------------------+-----------+--------------+-----------+-----------+-------------+------------------+\n",
            "|-122.050000|37.370000|         27.000000|3885.000000|    661.000000|1537.000000| 606.000000|     6.608500|     344700.000000|\n",
            "|-118.300000|34.260000|         43.000000|1510.000000|    310.000000| 809.000000| 277.000000|     3.599000|     176500.000000|\n",
            "|-117.810000|33.780000|         27.000000|3589.000000|    507.000000|1484.000000| 495.000000|     5.793400|     270500.000000|\n",
            "|-118.360000|33.820000|         28.000000|  67.000000|     15.000000|  49.000000|  11.000000|     6.135900|     330000.000000|\n",
            "|-119.670000|36.330000|         19.000000|1241.000000|    244.000000| 850.000000| 237.000000|     2.937500|      81700.000000|\n",
            "|-119.560000|36.510000|         37.000000|1018.000000|    213.000000| 663.000000| 204.000000|     1.663500|      67000.000000|\n",
            "|-121.430000|38.630000|         43.000000|1009.000000|    225.000000| 604.000000| 218.000000|     1.664100|      67000.000000|\n",
            "|-120.650000|35.480000|         19.000000|2310.000000|    471.000000|1341.000000| 441.000000|     3.225000|     166900.000000|\n",
            "|-122.840000|38.400000|         15.000000|3080.000000|    617.000000|1446.000000| 599.000000|     3.669600|     194400.000000|\n",
            "|-118.020000|34.080000|         31.000000|2402.000000|    632.000000|2830.000000| 603.000000|     2.333300|     164200.000000|\n",
            "|-118.240000|33.980000|         45.000000| 972.000000|    249.000000|1288.000000| 261.000000|     2.205400|     125000.000000|\n",
            "|-119.120000|35.850000|         37.000000| 736.000000|    166.000000| 564.000000| 138.000000|     2.416700|      58300.000000|\n",
            "|-121.930000|37.250000|         36.000000|1089.000000|    182.000000| 535.000000| 170.000000|     4.690000|     252600.000000|\n",
            "|-117.030000|32.970000|         16.000000|3936.000000|    694.000000|1935.000000| 659.000000|     4.562500|     231200.000000|\n",
            "|-117.970000|33.730000|         27.000000|2097.000000|    325.000000|1217.000000| 331.000000|     5.712100|     222500.000000|\n",
            "|-117.990000|33.810000|         42.000000| 161.000000|     40.000000| 157.000000|  50.000000|     2.200000|     153100.000000|\n",
            "|-120.810000|37.530000|         15.000000| 570.000000|    123.000000| 189.000000| 107.000000|     1.875000|     181300.000000|\n",
            "|-121.200000|38.690000|         26.000000|3077.000000|    607.000000|1603.000000| 595.000000|     2.717400|     137500.000000|\n",
            "|-118.880000|34.210000|         26.000000|1590.000000|    196.000000| 654.000000| 199.000000|     6.585100|     300000.000000|\n",
            "|-122.590000|38.010000|         35.000000|8814.000000|   1307.000000|3450.000000|1258.000000|     6.172400|     414300.000000|\n",
            "+-----------+---------+------------------+-----------+--------------+-----------+-----------+-------------+------------------+\n",
            "only showing top 20 rows\n",
            "\n"
          ]
        }
      ]
    },
    {
      "cell_type": "code",
      "source": [
        "df.printSchema()"
      ],
      "metadata": {
        "colab": {
          "base_uri": "https://localhost:8080/"
        },
        "id": "vNO1rZsS-hbs",
        "outputId": "cdfd57fd-9b66-40b7-f0f8-3d5fe333ad41"
      },
      "execution_count": null,
      "outputs": [
        {
          "output_type": "stream",
          "name": "stdout",
          "text": [
            "root\n",
            " |-- longitude: string (nullable = true)\n",
            " |-- latitude: string (nullable = true)\n",
            " |-- housing_median_age: string (nullable = true)\n",
            " |-- total_rooms: string (nullable = true)\n",
            " |-- total_bedrooms: string (nullable = true)\n",
            " |-- population: string (nullable = true)\n",
            " |-- households: string (nullable = true)\n",
            " |-- median_income: string (nullable = true)\n",
            " |-- median_house_value: string (nullable = true)\n",
            "\n"
          ]
        }
      ]
    },
    {
      "cell_type": "code",
      "source": [
        "df = sqlc.read.json('/content/sample_data/anscombe.json')\n",
        "df.show()"
      ],
      "metadata": {
        "colab": {
          "base_uri": "https://localhost:8080/"
        },
        "id": "xSo19UessnFx",
        "outputId": "513d3a57-4eb5-4459-a32b-f58bee449d99"
      },
      "execution_count": null,
      "outputs": [
        {
          "output_type": "stream",
          "name": "stdout",
          "text": [
            "+------+----+-----+---------------+\n",
            "|Series|   X|    Y|_corrupt_record|\n",
            "+------+----+-----+---------------+\n",
            "|  null|null| null|              [|\n",
            "|     I|10.0| 8.04|           null|\n",
            "|     I| 8.0| 6.95|           null|\n",
            "|     I|13.0| 7.58|           null|\n",
            "|     I| 9.0| 8.81|           null|\n",
            "|     I|11.0| 8.33|           null|\n",
            "|     I|14.0| 9.96|           null|\n",
            "|     I| 6.0| 7.24|           null|\n",
            "|     I| 4.0| 4.26|           null|\n",
            "|     I|12.0|10.84|           null|\n",
            "|     I| 7.0| 4.81|           null|\n",
            "|     I| 5.0| 5.68|           null|\n",
            "|    II|10.0| 9.14|           null|\n",
            "|    II| 8.0| 8.14|           null|\n",
            "|    II|13.0| 8.74|           null|\n",
            "|    II| 9.0| 8.77|           null|\n",
            "|    II|11.0| 9.26|           null|\n",
            "|    II|14.0|  8.1|           null|\n",
            "|    II| 6.0| 6.13|           null|\n",
            "|    II| 4.0|  3.1|           null|\n",
            "+------+----+-----+---------------+\n",
            "only showing top 20 rows\n",
            "\n"
          ]
        }
      ]
    },
    {
      "cell_type": "code",
      "source": [
        "df.select('name', 'age').show()"
      ],
      "metadata": {
        "colab": {
          "base_uri": "https://localhost:8080/"
        },
        "id": "4F3rMXgXAF9t",
        "outputId": "dc294969-7ec9-492b-c3b3-bc1be0e6e238"
      },
      "execution_count": null,
      "outputs": [
        {
          "output_type": "stream",
          "name": "stdout",
          "text": [
            "+-------+---+\n",
            "|   name|age|\n",
            "+-------+---+\n",
            "| satish| 25|\n",
            "|krishna| 28|\n",
            "|  amith| 39|\n",
            "|  javed| 23|\n",
            "| prudvi| 23|\n",
            "+-------+---+\n",
            "\n"
          ]
        }
      ]
    },
    {
      "cell_type": "code",
      "source": [
        "df.where(df['age'] >= 25).show()"
      ],
      "metadata": {
        "colab": {
          "base_uri": "https://localhost:8080/"
        },
        "id": "L2U8ECSCAUe0",
        "outputId": "24fc4713-f1ea-4445-b28e-d9e2eb6e480a"
      },
      "execution_count": null,
      "outputs": [
        {
          "output_type": "stream",
          "name": "stdout",
          "text": [
            "+---+----+-------+\n",
            "|age|  id|   name|\n",
            "+---+----+-------+\n",
            "| 25|1201| satish|\n",
            "| 28|1202|krishna|\n",
            "| 39|1203|  amith|\n",
            "+---+----+-------+\n",
            "\n"
          ]
        }
      ]
    },
    {
      "cell_type": "code",
      "source": [
        "df.groupBy('age').count().sort('age').show()"
      ],
      "metadata": {
        "colab": {
          "base_uri": "https://localhost:8080/"
        },
        "id": "5I3DM7oZBDLX",
        "outputId": "1cf4848d-c682-494a-93d2-0ff1447922d6"
      },
      "execution_count": null,
      "outputs": [
        {
          "output_type": "stream",
          "name": "stdout",
          "text": [
            "+---+-----+\n",
            "|age|count|\n",
            "+---+-----+\n",
            "| 23|    2|\n",
            "| 25|    1|\n",
            "| 28|    1|\n",
            "| 39|    1|\n",
            "+---+-----+\n",
            "\n"
          ]
        }
      ]
    },
    {
      "cell_type": "code",
      "source": [
        "df.head(3)"
      ],
      "metadata": {
        "colab": {
          "base_uri": "https://localhost:8080/"
        },
        "id": "I07aKT8gBjcI",
        "outputId": "185d875e-ee74-4856-d744-4416b75fb4a5"
      },
      "execution_count": null,
      "outputs": [
        {
          "output_type": "execute_result",
          "data": {
            "text/plain": [
              "[Row(age='25', id='1201', name='satish'),\n",
              " Row(age='28', id='1202', name='krishna'),\n",
              " Row(age='39', id='1203', name='amith')]"
            ]
          },
          "metadata": {},
          "execution_count": 48
        }
      ]
    },
    {
      "cell_type": "code",
      "source": [
        "df = sqlc.read.csv('/content/n2.csv', header=True)"
      ],
      "metadata": {
        "id": "Sik6yYB4ujvz"
      },
      "execution_count": null,
      "outputs": []
    },
    {
      "cell_type": "code",
      "source": [
        "df.show()"
      ],
      "metadata": {
        "colab": {
          "base_uri": "https://localhost:8080/"
        },
        "id": "5Im78pGjuntp",
        "outputId": "792c2125-24cf-480a-f377-6da81d2ab65e"
      },
      "execution_count": null,
      "outputs": [
        {
          "output_type": "stream",
          "name": "stdout",
          "text": [
            "+---+--------+--------------------+----+--------+------+----------------+----+-----+-------------------+--------------------+\n",
            "|STT|Mã số SV|              Họ Tên|Phái|     Lớp| Mã MH|          Tên MH|Nhóm|Tổ TH|           Cơ sở MH|               Email|\n",
            "+---+--------+--------------------+----+--------+------+----------------+----+-----+-------------------+--------------------+\n",
            "|  1|520H0341|     Nguyễn Thái Bảo| Nam|20H50202|502051|Hệ cơ sở dữ liệu|  20|    2|0 - TP. Hồ Chí Minh|520H0341@student....|\n",
            "|  2|518H0330|   Nguyễn Văn Chương| Nam|18H50302|502051|Hệ cơ sở dữ liệu|  20|    2|0 - TP. Hồ Chí Minh|518H0330@student....|\n",
            "|  3|518H0625|        Bùi Quốc Huy| Nam|18H50303|502051|Hệ cơ sở dữ liệu|  20|    2|0 - TP. Hồ Chí Minh|518H0625@student....|\n",
            "|  4|520H0644|     Nguyễn Nhựt Huy| Nam|20H50301|502051|Hệ cơ sở dữ liệu|  20|    2|0 - TP. Hồ Chí Minh|520H0644@student....|\n",
            "|  5|518H0522|       Phạm Hữu Khôi| Nam|18H50201|502051|Hệ cơ sở dữ liệu|  20|    2|0 - TP. Hồ Chí Minh|518H0522@student....|\n",
            "|  6|520H0384|        Vũ Tuấn Mạnh| Nam|20H50205|502051|Hệ cơ sở dữ liệu|  20|    2|0 - TP. Hồ Chí Minh|520H0384@student....|\n",
            "|  7|520H0473|      Huỳnh Hữu Minh| Nam|20H50302|502051|Hệ cơ sở dữ liệu|  20|    2|0 - TP. Hồ Chí Minh|520H0473@student....|\n",
            "|  8|520H0658|   Nguyễn Khánh Minh| Nam|20H50303|502051|Hệ cơ sở dữ liệu|  20|    2|0 - TP. Hồ Chí Minh|520H0658@student....|\n",
            "|  9|520H0559|       Lê Phước Nhân| Nam|20H50202|502051|Hệ cơ sở dữ liệu|  20|    2|0 - TP. Hồ Chí Minh|520H0559@student....|\n",
            "| 10|519H0210|       Trần Hữu Nhất| Nam|19H50204|502051|Hệ cơ sở dữ liệu|  20|    2|0 - TP. Hồ Chí Minh|519H0210@student....|\n",
            "| 11|520H0396|  Nguyễn Thị Yến Nhi|  Nữ|20H50205|502051|Hệ cơ sở dữ liệu|  20|    2|0 - TP. Hồ Chí Minh|520H0396@student....|\n",
            "| 12|518H0419|   Nguyễn Thành Phát| Nam|18H50303|502051|Hệ cơ sở dữ liệu|  20|    2|0 - TP. Hồ Chí Minh|518H0419@student....|\n",
            "| 13|518H0047|        Hà Quán Quân| Nam|18H50203|502051|Hệ cơ sở dữ liệu|  20|    2|0 - TP. Hồ Chí Minh|518H0047@student....|\n",
            "| 14|518H0663|    Nguyễn Minh Quân| Nam|18H50302|502051|Hệ cơ sở dữ liệu|  20|    2|0 - TP. Hồ Chí Minh|518H0663@student....|\n",
            "| 15|520H0674|     Trần Minh Quang| Nam|20H50303|502051|Hệ cơ sở dữ liệu|  20|    2|0 - TP. Hồ Chí Minh|520H0674@student....|\n",
            "| 16|518H0437|     Phan Tuấn Thành| Nam|18H50303|502051|Hệ cơ sở dữ liệu|  20|    2|0 - TP. Hồ Chí Minh|518H0437@student....|\n",
            "| 17|519H0046|   Trần Vũ Bảo Thiên| Nam|19H50203|502051|Hệ cơ sở dữ liệu|  20|    2|0 - TP. Hồ Chí Minh|519H0046@student....|\n",
            "| 18|520H0684|   Nguyễn Minh Thiện| Nam|20H50301|502051|Hệ cơ sở dữ liệu|  20|    2|0 - TP. Hồ Chí Minh|520H0684@student....|\n",
            "| 19|519H0238|   Nguyễn Quốc Thịnh| Nam|19H50204|502051|Hệ cơ sở dữ liệu|  20|    2|0 - TP. Hồ Chí Minh|519H0238@student....|\n",
            "| 20|520H0686|Nguyễn Hoàng Uyên...|  Nữ|20H50304|502051|Hệ cơ sở dữ liệu|  20|    2|0 - TP. Hồ Chí Minh|520H0686@student....|\n",
            "+---+--------+--------------------+----+--------+------+----------------+----+-----+-------------------+--------------------+\n",
            "only showing top 20 rows\n",
            "\n"
          ]
        }
      ]
    },
    {
      "cell_type": "code",
      "source": [
        "df.printSchema()"
      ],
      "metadata": {
        "colab": {
          "base_uri": "https://localhost:8080/"
        },
        "id": "oPrwEk7ouzBG",
        "outputId": "526f2d64-1889-4c21-abdc-6dc80fe4ff38"
      },
      "execution_count": null,
      "outputs": [
        {
          "output_type": "stream",
          "name": "stdout",
          "text": [
            "root\n",
            " |-- STT: string (nullable = true)\n",
            " |-- Mã số SV: string (nullable = true)\n",
            " |-- Họ Tên: string (nullable = true)\n",
            " |-- Phái: string (nullable = true)\n",
            " |-- Lớp: string (nullable = true)\n",
            " |-- Mã MH: string (nullable = true)\n",
            " |-- Tên MH: string (nullable = true)\n",
            " |-- Nhóm: string (nullable = true)\n",
            " |-- Tổ TH: string (nullable = true)\n",
            " |-- Cơ sở MH: string (nullable = true)\n",
            " |-- Email: string (nullable = true)\n",
            "\n"
          ]
        }
      ]
    },
    {
      "cell_type": "code",
      "source": [
        "df.where(df['Phái'] == 'Nữ') \\\n",
        "  .select('STT', 'Mã số SV', 'Họ Tên') \\\n",
        "  .sort('STT') \\\n",
        "  .show()"
      ],
      "metadata": {
        "colab": {
          "base_uri": "https://localhost:8080/"
        },
        "id": "tCob0l4mu5jh",
        "outputId": "f1ddb818-913d-42fb-b7de-9ed2c6612afb"
      },
      "execution_count": null,
      "outputs": [
        {
          "output_type": "stream",
          "name": "stdout",
          "text": [
            "+---+--------+--------------------+\n",
            "|STT|Mã số SV|              Họ Tên|\n",
            "+---+--------+--------------------+\n",
            "| 11|520H0396|  Nguyễn Thị Yến Nhi|\n",
            "| 20|520H0686|Nguyễn Hoàng Uyên...|\n",
            "+---+--------+--------------------+\n",
            "\n"
          ]
        }
      ]
    },
    {
      "cell_type": "code",
      "source": [
        "# tìm 10 hàm thông dụng nhất của DataFrame\n",
        "# liệt kê tên và chức năng"
      ],
      "metadata": {
        "id": "4fKxtgB4CNMX"
      },
      "execution_count": null,
      "outputs": []
    }
  ]
}